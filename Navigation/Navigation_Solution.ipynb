{
 "cells": [
  {
   "cell_type": "markdown",
   "metadata": {},
   "source": [
    "# Project 1: Navigation\n",
    "## Introduction\n",
    "The goal of this project is to train an agent to navigate and collect bananas in a large, square world. \n",
    "\n",
    "The reward function is defined as +1 for collecting a yellow banana, and -1 for collecting a blue banana. The agent's objective is to maximize this score, with an average of 13 over 100 epochs being considered a \"successful\" agent."
   ]
  },
  {
   "cell_type": "code",
   "execution_count": 1,
   "metadata": {},
   "outputs": [],
   "source": [
    "# Imports\n",
    "from unityagents import UnityEnvironment\n",
    "import numpy as np\n",
    "\n",
    "import random\n",
    "import torch\n",
    "import torch.nn as nn\n",
    "import torch.nn.functional as F\n",
    "from collections import namedtuple, deque\n",
    "import matplotlib.pyplot as plt\n",
    "from tqdm import tqdm_notebook\n",
    "%matplotlib inline"
   ]
  },
  {
   "cell_type": "markdown",
   "metadata": {},
   "source": [
    "## Set up Environment"
   ]
  },
  {
   "cell_type": "code",
   "execution_count": 2,
   "metadata": {},
   "outputs": [
    {
     "name": "stderr",
     "output_type": "stream",
     "text": [
      "INFO:unityagents:\n",
      "'Academy' started successfully!\n",
      "Unity Academy name: Academy\n",
      "        Number of Brains: 1\n",
      "        Number of External Brains : 1\n",
      "        Lesson number : 0\n",
      "        Reset Parameters :\n",
      "\t\t\n",
      "Unity brain name: BananaBrain\n",
      "        Number of Visual Observations (per agent): 0\n",
      "        Vector Observation space type: continuous\n",
      "        Vector Observation space size (per agent): 37\n",
      "        Number of stacked Vector Observation: 1\n",
      "        Vector Action space type: discrete\n",
      "        Vector Action space size (per agent): 4\n",
      "        Vector Action descriptions: , , , \n"
     ]
    }
   ],
   "source": [
    "env = UnityEnvironment(file_name=\"./Banana_Linux_NoVis/Banana.x86_64\")"
   ]
  },
  {
   "cell_type": "code",
   "execution_count": 3,
   "metadata": {},
   "outputs": [],
   "source": [
    "# get the default brain\n",
    "brain_name = env.brain_names[0]\n",
    "brain = env.brains[brain_name]"
   ]
  },
  {
   "cell_type": "code",
   "execution_count": 4,
   "metadata": {},
   "outputs": [
    {
     "name": "stdout",
     "output_type": "stream",
     "text": [
      "Number of agents: 1\n",
      "Number of actions: 4\n",
      "States look like: [1.         0.         0.         0.         0.84408134 0.\n",
      " 0.         1.         0.         0.0748472  0.         1.\n",
      " 0.         0.         0.25755    1.         0.         0.\n",
      " 0.         0.74177343 0.         1.         0.         0.\n",
      " 0.25854847 0.         0.         1.         0.         0.09355672\n",
      " 0.         1.         0.         0.         0.31969345 0.\n",
      " 0.        ]\n",
      "States have length: 37\n"
     ]
    }
   ],
   "source": [
    "# reset the environment\n",
    "env_info = env.reset(train_mode=True)[brain_name]\n",
    "\n",
    "# number of agents in the environment\n",
    "print('Number of agents:', len(env_info.agents))\n",
    "\n",
    "# number of actions\n",
    "action_size = brain.vector_action_space_size\n",
    "print('Number of actions:', action_size)\n",
    "\n",
    "# examine the state space \n",
    "state = env_info.vector_observations[0]\n",
    "print('States look like:', state)\n",
    "state_size = len(state)\n",
    "print('States have length:', state_size)"
   ]
  },
  {
   "cell_type": "markdown",
   "metadata": {},
   "source": [
    "## Q Network\n",
    "Our architecture here is quite simple - this is a neural network with only two fully-connected hidden layers and an output layer which indicates what action should be taken."
   ]
  },
  {
   "cell_type": "code",
   "execution_count": 5,
   "metadata": {},
   "outputs": [],
   "source": [
    "class QNetwork(nn.Module):\n",
    "    \"\"\"Actor Model\"\"\"\n",
    "    \n",
    "    def __init__(self, state_size, action_size):\n",
    "        \"\"\"Initialize parameters and build the model\n",
    "        Params\n",
    "        ======\n",
    "            state_size (int): Dimension of each state\n",
    "            action_size (int): Dimension of each action\n",
    "        \"\"\"\n",
    "        super(QNetwork, self).__init__()\n",
    "        self.fc1 = nn.Linear(state_size, 128)\n",
    "        self.fc2 = nn.Linear(128, 64)\n",
    "        self.fc3 = nn.Linear(64, action_size)\n",
    "        \n",
    "    def forward(self, state):\n",
    "        \"\"\"Build a network that maps state -> action values\"\"\"\n",
    "        x = F.relu(self.fc1(state))\n",
    "        x = F.relu(self.fc2(x))\n",
    "        return self.fc3(x)"
   ]
  },
  {
   "cell_type": "markdown",
   "metadata": {},
   "source": [
    "## Deep Q agent\n",
    "Our agent here is written to support both Q-learning and Double Q-learning. The difference between the two stems from the update step, where the deep q-learning agent will update the weights of the action-value network at each iteration, while the double q-learning agent updates the action-value network only every n iterations. \n",
    "\n",
    "The rationale for having this second network which is updated less frequently is that the learning is more stable, and  mitigates the problem of Q values being overestimated early in training. It does this by having a single set of weights for selecting actions and a second set of weights for evaluation. This slightly-frozen set of parameters also confers the benefits of fixed TD targets in adequately decoupling the weight update from the function parameter, which also smooths the training of the network."
   ]
  },
  {
   "cell_type": "code",
   "execution_count": 6,
   "metadata": {},
   "outputs": [],
   "source": [
    "BUFFER_SIZE = 100000    # Replay Buffer Size\n",
    "BATCH_SIZE = 64         # Mini-batch Size\n",
    "GAMMA = .99             # Discount Rate\n",
    "TAU = .001              # Soft Update of Target Parameters\n",
    "ALPHA = .0005           # Learning Rate\n",
    "UPDATE_FREQ = 5         # How often to update network parameters"
   ]
  },
  {
   "cell_type": "code",
   "execution_count": 7,
   "metadata": {},
   "outputs": [],
   "source": [
    "device = torch.device(\"cuda:0\" if torch.cuda.is_available() else \"cpu\")"
   ]
  },
  {
   "cell_type": "code",
   "execution_count": 8,
   "metadata": {},
   "outputs": [],
   "source": [
    "class ReplayBuffer():\n",
    "    \"\"\"Buffer to replay experience tuples\"\"\"\n",
    "    def __init__(self, action_size, buffer_size, batch_size):\n",
    "        \"\"\"Initialize ReplayBuffer class\n",
    "        \n",
    "        Params\n",
    "        ======\n",
    "            action_size (int): Dimension of each action\n",
    "            buffer_size (int): Length of replay buffer\n",
    "            batch_size (int): Size of each training mini-batch.\n",
    "        \"\"\"\n",
    "        self.action_size = action_size\n",
    "        self.memory = deque(maxlen=buffer_size)\n",
    "        self.batch_size = batch_size\n",
    "        self.experience = namedtuple(\"Experience\", field_names=[\"state\", \"action\", \"reward\", \"next_state\", \"done\"])\n",
    "        \n",
    "    def add_experience(self, state, action, reward, next_state, done):\n",
    "        \"\"\"Append an experience to memory\"\"\"\n",
    "        exp = self.experience(state, action, reward, next_state, done)\n",
    "        self.memory.append(exp)\n",
    "        \n",
    "    def sample(self):\n",
    "        \"\"\"Sample experiences from memory\"\"\"\n",
    "        experiences = random.sample(self.memory, k=self.batch_size)\n",
    "        \n",
    "        states = torch.from_numpy(np.vstack([e.state for e in experiences if e is not None])).float().to(device)\n",
    "        actions = torch.from_numpy(np.vstack([e.action for e in experiences if e is not None])).float().to(device)\n",
    "        rewards = torch.from_numpy(np.vstack([e.reward for e in experiences if e is not None])).float().to(device)\n",
    "        next_states = torch.from_numpy(np.vstack([e.next_state for e in experiences if e is not None])).float().to(device)\n",
    "        dones = torch.from_numpy(np.vstack([e.done for e in experiences if e is not None])).float().to(device)\n",
    "        \n",
    "        return (states, actions, rewards, next_states, dones)\n",
    "    \n",
    "    def __len__(self):\n",
    "        \"\"\"Return the length of the memory\"\"\"\n",
    "        return len(self.memory)\n",
    "    \n",
    "    \n",
    "class Agent():\n",
    "    \"\"\"Interacts with environment and learns from interactions\"\"\"\n",
    "    \n",
    "    def __init__(self, qnetwork, state_size, action_size, update_type='dqn', gamma=1.0, alpha=0.5, tau=.001):\n",
    "        \"\"\"Initialize the agent\n",
    "        \n",
    "        Params\n",
    "        ======\n",
    "            qnetwork (torch.nn.Module): Model to use as a function approximator\n",
    "            state_size: Dimension of each state\n",
    "            action_size: Dimension of each action\n",
    "            update_type (str): 'dqn' or 'double-dqn' - specify the agent type\n",
    "        \"\"\"\n",
    "        self.state_size = state_size\n",
    "        self.action_size = action_size\n",
    "        self.update_type = update_type if update_type in ['dqn', 'double-dqn'] else 'dqn' #Error handling\n",
    "        self.discount_rate = gamma\n",
    "        self.tau = tau\n",
    "        \n",
    "        # Q-network\n",
    "        self.qnetwork_local = qnetwork(state_size, action_size).to(device)\n",
    "        self.qnetwork_target = qnetwork(state_size, action_size).to(device)\n",
    "        self.optimizer = torch.optim.Adam(self.qnetwork_local.parameters(), lr=alpha)\n",
    "        \n",
    "        self.memory = ReplayBuffer(action_size, BUFFER_SIZE, BATCH_SIZE)\n",
    "        self.t_step = 0\n",
    "        \n",
    "    def step(self, state, action, reward, next_state, done):\n",
    "        # Add experience to memory\n",
    "        self.memory.add_experience(state, action, reward, next_state, done)\n",
    "        \n",
    "        # Learn according to update frequency\n",
    "        self.t_step = (self.t_step + 1) % UPDATE_FREQ\n",
    "        if self.t_step == 0:\n",
    "            # Ensure there are enough experiences in memory to sample from\n",
    "            if len(self.memory) >= BATCH_SIZE:\n",
    "                exp = self.memory.sample()\n",
    "                self.train(exp)\n",
    "    \n",
    "    def act(self, state, epsilon=0.0):\n",
    "        \"\"\" Return actions for given state according to policy\n",
    "        \n",
    "            Params\n",
    "            ======\n",
    "            state (array_like): current environment state\n",
    "            epsilon (float): Probability for epsilon-greedy policy\n",
    "        \"\"\"\n",
    "        state = torch.from_numpy(state).float().unsqueeze(0).to(device)\n",
    "        self.qnetwork_local.eval()\n",
    "        with torch.no_grad():\n",
    "            action_values = self.qnetwork_local(state)\n",
    "        self.qnetwork_local.train()\n",
    "        \n",
    "        if np.random.uniform(0, 1) > epsilon:\n",
    "            return np.argmax(action_values.cpu().data.numpy())\n",
    "        else:\n",
    "            return random.choice(np.arange(self.action_size))\n",
    "        \n",
    "    \n",
    "    def soft_update(self, local_network, target_network):\n",
    "        \"\"\" Soft update model parameters \n",
    "            Theta_target = tau * Theta_local + (1 - tau) * Theta_target\n",
    "        \n",
    "            Params\n",
    "            ======\n",
    "                local_network (Torch model): weights to be copied from\n",
    "                target_network (Torch model): weights to copy to\n",
    "        \"\"\"\n",
    "        for target, local in zip (target_network.parameters(), local_network.parameters()):\n",
    "            target.data.copy_(self.tau * local.data + (1.0 - self.tau) * target.data)\n",
    "        \n",
    "    def train(self, experiences):\n",
    "        \"\"\" Update parameters via experience tuples\n",
    "        \n",
    "            Params\n",
    "            ======\n",
    "            experiences (Tuple): tuple of (state, action, reward, next_state, done) tuples\n",
    "        \"\"\"\n",
    "        states, actions, rewards, next_states, dones = experiences\n",
    "        \n",
    "        # Get max Q values for next states\n",
    "        if self.update_type == 'dqn':\n",
    "            Q_targets_next = self.qnetwork_target(next_states).detach().max(1)[0].unsqueeze(1)\n",
    "            \n",
    "        if self.update_type == 'double-dqn':\n",
    "            best_local_actions = self.qnetwork_local(next_states).detach().max(1)[1].unsqueeze(1)\n",
    "            double_dqn_targets = self.qnetwork_target(next_states)\n",
    "            Q_targets_next = torch.gather(double_dqn_targets, 1, best_local_actions)\n",
    "        \n",
    "        # Discounted Q targets for current state\n",
    "        Q_targets = rewards + (self.discount_rate * Q_targets_next * (1-dones))\n",
    "        \n",
    "        # Expected Q values from local model\n",
    "        Q_expected = self.qnetwork_local(states).gather(1, actions.long())\n",
    "        \n",
    "        # Compute and minimize mean squared error\n",
    "        loss = F.mse_loss(Q_expected, Q_targets)\n",
    "        self.optimizer.zero_grad()\n",
    "        loss.backward()\n",
    "        self.optimizer.step()\n",
    "        \n",
    "        self.soft_update(self.qnetwork_local, self.qnetwork_target)"
   ]
  },
  {
   "cell_type": "code",
   "execution_count": 9,
   "metadata": {},
   "outputs": [],
   "source": [
    "agent = Agent(QNetwork, state_size, action_size,'double-dqn', GAMMA, ALPHA, TAU)"
   ]
  },
  {
   "cell_type": "code",
   "execution_count": 10,
   "metadata": {},
   "outputs": [],
   "source": [
    "def learn(agent, episodes, max_t, epsilon_max=1.0, epsilon_min=0.01, epsilon_decay=0.999):\n",
    "    \"\"\" Deep Q-learning\n",
    "        \n",
    "        Params\n",
    "        ======\n",
    "            episodes (int): Number of training episodes\n",
    "            max_t (int): Upper limit of timesteps per episode\n",
    "            epsilon_max (float): Starting value of epsilon\n",
    "            epsilon_min (float): Minimum value of epsilon\n",
    "            epsilon_decay (float): How much to decay epsilon by each episode\n",
    "    \"\"\"\n",
    "    scores = []  # List of scores from each episode\n",
    "    \n",
    "    epsilon = epsilon_max  # Initialize epsilon\n",
    "    \n",
    "    for ep in tqdm_notebook(range(episodes)):\n",
    "        info = env.reset(train_mode=True)[brain_name]  # Reset the environment\n",
    "        state = info.vector_observations[0]  # Initial state\n",
    "        score = 0  # Set score for episode to 0.\n",
    "        \n",
    "        for t in range(max_t):\n",
    "            action = agent.act(state, epsilon)  # Select the action according to e-greedy policy\n",
    "            info = env.step(action)[brain_name]  # Take the action and record state\n",
    "            next_state = info.vector_observations[0]  # Get next state\n",
    "            reward = info.rewards[0]  # Get the rewards\n",
    "            done = info.local_done[0]  # Is the episode complete?\n",
    "            \n",
    "            agent.step(state, action, reward, next_state, done)  # Record the step in the agent\n",
    "            score += reward  # Add rewards to the score\n",
    "            \n",
    "            state = next_state  # Update the state\n",
    "            \n",
    "            if done:\n",
    "                break\n",
    "        \n",
    "        scores.append(score)\n",
    "        epsilon = max(epsilon_min, epsilon*epsilon_decay)\n",
    "        average_score = np.mean(scores[-100:])\n",
    "        if (ep + 1) % 100 == 0:\n",
    "            print(\"Episode {}\\tAverage score: {:.2f}\\n\".format(ep+1, average_score))\n",
    "        \n",
    "        if average_score >= 13:\n",
    "            print(\"Environment solved in {} episodes - average score {:.2f}\".format(ep+1, average_score))\n",
    "            torch.save(agent.qnetwork_local.state_dict(), 'solution.pth')\n",
    "            break\n",
    "        \n",
    "    return scores"
   ]
  },
  {
   "cell_type": "code",
   "execution_count": 11,
   "metadata": {},
   "outputs": [
    {
     "name": "stderr",
     "output_type": "stream",
     "text": [
      "/home/erick/anaconda3/envs/drlnd/lib/python3.6/site-packages/ipykernel_launcher.py:16: TqdmDeprecationWarning: This function will be removed in tqdm==5.0.0\n",
      "Please use `tqdm.notebook.tqdm` instead of `tqdm.tqdm_notebook`\n",
      "  app.launch_new_instance()\n"
     ]
    },
    {
     "data": {
      "application/vnd.jupyter.widget-view+json": {
       "model_id": "ff4b3a527b4b44a1ab4e50a4753d581c",
       "version_major": 2,
       "version_minor": 0
      },
      "text/plain": [
       "HBox(children=(FloatProgress(value=0.0, max=5000.0), HTML(value='')))"
      ]
     },
     "metadata": {},
     "output_type": "display_data"
    },
    {
     "name": "stdout",
     "output_type": "stream",
     "text": [
      "Episode 50\tAverage score: -0.24\n",
      "\n",
      "Episode 100\tAverage score: 0.29\n",
      "\n",
      "Episode 150\tAverage score: 1.64\n",
      "\n",
      "Episode 200\tAverage score: 3.96\n",
      "\n",
      "Episode 250\tAverage score: 5.94\n",
      "\n",
      "Episode 300\tAverage score: 7.08\n",
      "\n",
      "Episode 350\tAverage score: 8.86\n",
      "\n",
      "Episode 400\tAverage score: 11.10\n",
      "\n",
      "Episode 450\tAverage score: 12.61\n",
      "\n",
      "Environment solved in 465 episodes - average score 13.01\n"
     ]
    }
   ],
   "source": [
    "scores = learn(agent, 5000, 2000, 1.0, 0.1, .995)"
   ]
  },
  {
   "cell_type": "code",
   "execution_count": 12,
   "metadata": {},
   "outputs": [
    {
     "data": {
      "text/plain": [
       "[<matplotlib.lines.Line2D at 0x7f0e0bd89160>]"
      ]
     },
     "execution_count": 12,
     "metadata": {},
     "output_type": "execute_result"
    },
    {
     "data": {
      "image/png": "[encoded data removed]",
      "text/plain": [
       "<Figure size 432x288 with 1 Axes>"
      ]
     },
     "metadata": {
      "needs_background": "light"
     },
     "output_type": "display_data"
    }
   ],
   "source": [
    "plt.plot(scores)"
   ]
  },
  {
   "cell_type": "code",
   "execution_count": null,
   "metadata": {},
   "outputs": [],
   "source": []
  }
 ],
 "metadata": {
  "kernelspec": {
   "display_name": "Python 3",
   "language": "python",
   "name": "python3"
  },
  "language_info": {
   "codemirror_mode": {
    "name": "ipython",
    "version": 3
   },
   "file_extension": ".py",
   "mimetype": "text/x-python",
   "name": "python",
   "nbconvert_exporter": "python",
   "pygments_lexer": "ipython3",
   "version": "3.6.5"
  }
 },
 "nbformat": 4,
 "nbformat_minor": 4
}
